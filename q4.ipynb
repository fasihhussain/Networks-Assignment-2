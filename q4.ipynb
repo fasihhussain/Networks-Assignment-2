{
  "nbformat": 4,
  "nbformat_minor": 0,
  "metadata": {
    "colab": {
      "name": "Erdos-Renyi.ipynb",
      "provenance": [],
      "collapsed_sections": []
    },
    "kernelspec": {
      "name": "python3",
      "display_name": "Python 3"
    },
    "language_info": {
      "name": "python"
    }
  },
  "cells": [
    {
      "cell_type": "code",
      "execution_count": 1,
      "metadata": {
        "id": "kePB45NylL0Q"
      },
      "outputs": [],
      "source": [
        "import networkx as nx\n",
        "import numpy as np\n",
        "import matplotlib.pyplot as plt\n",
        "from random import random"
      ]
    },
    {
      "cell_type": "code",
      "source": [
        "class ErdosRenyi:\n",
        "    def __init__(self, n, p):\n",
        "        \"\"\"Initializes an Erdos-Renyi graph\n",
        "\n",
        "        Args:\n",
        "        n (int): Number of nodes in the graph\n",
        "        p (float): Probability of connection between any two nodes\n",
        "        \"\"\"\n",
        "        self.G = nx.Graph()\n",
        "        self.n = n\n",
        "        self.p = p\n",
        "\n",
        "        self.G.add_nodes_from(range(self.n))\n",
        "\n",
        "        for i in range(n):\n",
        "            for j in range(i + 1, n):\n",
        "                if random() < self.p:\n",
        "                    self.G.add_edge(i, j)\n",
        "\n",
        "    def average_clustering_coefficient(self):\n",
        "        \"\"\"Calculates average clustering coefficient of the graph G\n",
        "\n",
        "        Returns:\n",
        "        Returns the average clustering coefficient\n",
        "        \"\"\"\n",
        "        return nx.algorithms.cluster.average_clustering(self.G)\n",
        "\n",
        "    def average_path_length(self):\n",
        "        \"\"\"Calculates average path length of the graph G\n",
        "\n",
        "        Returns:\n",
        "        float: Average path length in graph G\n",
        "        \"\"\"\n",
        "        return nx.average_shortest_path_length(self.G)\n",
        "\n",
        "    def degrees(self):\n",
        "        \"\"\"Returns degree of all vertices in the graph\n",
        "\n",
        "        Returns:\n",
        "            [int]: array of degrees of vertices\n",
        "        \"\"\"\n",
        "        return list(map(lambda x: x[1], self.G.degree(range(self.n))))"
      ],
      "metadata": {
        "id": "eWPeYK4MlYze"
      },
      "execution_count": 4,
      "outputs": []
    },
    {
      "cell_type": "code",
      "source": [
        "CONFIGURATIONS = [(100, 0.05), (500, 0.02), (1000, 0.01)]\n",
        "TRIALS = 30\n",
        "\n",
        "for n, p in CONFIGURATIONS:\n",
        "    s_average_clustering_coefficient = 0\n",
        "    s_average_path_length = 0\n",
        "    degrees = []\n",
        "\n",
        "    trial = 0\n",
        "    while trial < TRIALS:\n",
        "        try:\n",
        "            G = ErdosRenyi(n, p)\n",
        "\n",
        "            s_average_path_length += G.average_path_length()\n",
        "            s_average_clustering_coefficient += G.average_clustering_coefficient()\n",
        "            degrees.extend(G.degrees())\n",
        "\n",
        "            trial += 1\n",
        "        except:\n",
        "            pass\n",
        "\n",
        "    s_average_clustering_coefficient /= TRIALS\n",
        "    s_average_path_length /= TRIALS\n",
        "\n",
        "    prediction_average_path_lenght = np.log(n) / np.log((n - 1) * p)\n",
        "\n",
        "    print(f\"n: {n}\")\n",
        "    print(f\"p: {p}\")\n",
        "    print(\n",
        "        f\"Average Clustering Coefficient (prediction = {p}): {round(s_average_clustering_coefficient, 4)}\"\n",
        "    )\n",
        "    print(\n",
        "        f\"Average Path Length (prediction = {round(prediction_average_path_lenght, 4)}): {s_average_path_length}\"\n",
        "    )\n",
        "\n",
        "    cnts, bins = np.histogram(degrees, bins=\"auto\")\n",
        "    cnts = list(map(lambda x: x / TRIALS, cnts))\n",
        "\n",
        "    plt.bar(bins[:-1] + np.diff(bins) / 2, cnts, np.diff(bins))\n",
        "    plt.title(\"Degree Distribution\")\n",
        "    plt.xlabel(\"Degree\")\n",
        "    plt.ylabel(\"Frequency\")\n",
        "    plt.axvline(\n",
        "        x=(n - 1) * p, linewidth=2, color=\"r\", linestyle=\"--\", label=\"Predicted Mean\"\n",
        "    )\n",
        "    plt.legend()\n",
        "    plt.show()\n",
        "    print(\"\\n\\n\")"
      ],
      "metadata": {
        "colab": {
          "base_uri": "https://localhost:8080/",
          "height": 1000
        },
        "id": "JtmLCFzRsBxO",
        "outputId": "3ec6781c-05f0-474f-ca57-e956d29372ec"
      },
      "execution_count": 5,
      "outputs": [
        {
          "output_type": "stream",
          "name": "stdout",
          "text": [
            "n: 100\n",
            "p: 0.05\n",
            "Average Clustering Coefficient (prediction = 0.05): 0.0482\n",
            "Average Path Length (prediction = 2.8793): 3.006141414141415\n"
          ]
        },
        {
          "output_type": "display_data",
          "data": {
            "image/png": "[encoded data removed]",
            "text/plain": [
              "<Figure size 432x288 with 1 Axes>"
            ]
          },
          "metadata": {
            "needs_background": "light"
          }
        },
        {
          "output_type": "stream",
          "name": "stdout",
          "text": [
            "\n",
            "\n",
            "\n",
            "n: 500\n",
            "p: 0.02\n",
            "Average Clustering Coefficient (prediction = 0.02): 0.0198\n",
            "Average Path Length (prediction = 2.7013): 2.9427783567134265\n"
          ]
        },
        {
          "output_type": "display_data",
          "data": {
            "image/png": "[encoded data removed]",
            "text/plain": [
              "<Figure size 432x288 with 1 Axes>"
            ]
          },
          "metadata": {
            "needs_background": "light"
          }
        },
        {
          "output_type": "stream",
          "name": "stdout",
          "text": [
            "\n",
            "\n",
            "\n",
            "n: 1000\n",
            "p: 0.01\n",
            "Average Clustering Coefficient (prediction = 0.01): 0.0103\n",
            "Average Path Length (prediction = 3.0013): 3.259943810477144\n"
          ]
        },
        {
          "output_type": "display_data",
          "data": {
            "image/png": "[encoded data removed]",
            "text/plain": [
              "<Figure size 432x288 with 1 Axes>"
            ]
          },
          "metadata": {
            "needs_background": "light"
          }
        },
        {
          "output_type": "stream",
          "name": "stdout",
          "text": [
            "\n",
            "\n",
            "\n"
          ]
        }
      ]
    }
  ]
}